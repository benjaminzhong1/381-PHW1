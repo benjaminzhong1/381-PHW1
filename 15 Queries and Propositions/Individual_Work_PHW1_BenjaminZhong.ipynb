{
    "metadata": {
        "kernelspec": {
            "name": "SQL",
            "display_name": "SQL",
            "language": "sql"
        },
        "language_info": {
            "name": "sql",
            "version": ""
        }
    },
    "nbformat_minor": 2,
    "nbformat": 4,
    "cells": [
        {
            "cell_type": "markdown",
            "source": [
                "**Chapter 2** **Exercise no:  #1 - 10**\n",
                "\n",
                "**#1 -** R<span style=\"color: var(--vscode-foreground);\">eturn orders placed in June 2015</span>\n",
                "\n",
                "> Tables involved: TSQLV4 database, Sales.Orders table\n",
                "\n",
                "**#2 -** Return orders placed on the last day of the month\n",
                "\n",
                "> Tables involved: Sales.Orders table\n",
                "\n",
                "**#3 -** <span style=\"color: var(--vscode-foreground);\">Return employees with last name containing the letter 'e' twice or more</span>\n",
                "\n",
                "> Tables involved: HR.Employees table\n",
                "\n",
                "**#4 -** <span style=\"color: var(--vscode-foreground);\">Return orders with total value(qty*unitprice) greater than 10000</span>   <span style=\"color: var(--vscode-foreground);\">&nbsp;sorted by total value</span>\n",
                "\n",
                "> Tables involved: Sales.OrderDetails table\n",
                "\n",
                "**#5 -** Write a query against the HR.Employees table that returns employees <span style=\"color: var(--vscode-foreground);\">with a last name that starts with a lower case letter.&nbsp;</span>  <span style=\"color: var(--vscode-foreground);\">Remember that the collation of the sample database&nbsp;</span>  <span style=\"color: var(--vscode-foreground);\">is case insensitive (Latin1_General_CI_AS).&nbsp;</span>  <span style=\"color: var(--vscode-foreground);\">For simplicity, you can assume that only English letters are used&nbsp;</span>  <span style=\"color: var(--vscode-foreground);\">in the employee last names</span>\n",
                "\n",
                "<span style=\"background-color: rgba(127, 127, 127, 0.1); color: var(--vscode-foreground);\">Tables involved: Sales.OrderDetails table</span>\n",
                "\n",
                "**#6 -** Explain the difference between the following two queries\n",
                "\n",
                "<span style=\"background-color: rgba(127, 127, 127, 0.1); color: var(--vscode-foreground);\">Tables involved: Sales.OrderDetails table</span>\n",
                "\n",
                "**#7 -** Return the three ship countries with the highest average freight for orders placed in 2015\n",
                "\n",
                "> Tables involved: Sales.Orders table\n",
                "\n",
                "**#8 -** Calculate row numbers for orders <span style=\"color: var(--vscode-foreground);\">based on order date ordering (using order id as tiebreaker)&nbsp;</span>  <span style=\"color: var(--vscode-foreground);\">for each customer separately</span>\n",
                "\n",
                "> Tables involved: Sales.Orders table\n",
                "\n",
                "**#9 -** Figure out and return for each employee the gender based on the title of courtesy <span style=\"color: var(--vscode-foreground);\">Ms., Mrs. - Female, Mr. - Male, Dr. - Unknown</span>\n",
                "\n",
                "> Tables involved: HR.Employees table\n",
                "\n",
                "**#10 -** Return for each customer the customer ID and region <span style=\"color: var(--vscode-foreground);\">sort the rows in the output by region&nbsp;</span>  <span style=\"color: var(--vscode-foreground);\">having NULLs sort last (after non-NULL values)&nbsp;</span>  <span style=\"color: var(--vscode-foreground);\">Note that the default in T-SQL is that NULLs sort first</span>\n",
                "\n",
                "> Tables involved: Sales.Customers table\n",
                "\n",
                " <span style=\"background-color: transparent; font-size: 11pt; font-family: Arial, sans-serif; color: rgb(0, 0, 0); vertical-align: baseline;\"><span style=\"border: none; display: inline-block; overflow: hidden; width: 20px; height: 20px;\"><img src=\"https://lh7-us.googleusercontent.com/fr1jfMnxy4ib5z4ipHl6FxYTF73THw9svYIjjlx3BZh9L-0-0LgGDsxspfbwx4G5Z7VAcygnXyvRviuyTPoS3DcwyzEVcZoUBY1XHRtqHKMwV51p2f-dVij7bq8-8rjw1zGHg8WhEKuLJL5Q1NMbVtc\" width=\"20\" height=\"20\" style=\"margin-left: 0px; margin-top: 0px;\"></span></span><span style=\"background-color: transparent; font-size: 11pt; font-family: Arial, sans-serif; color: rgb(0, 0, 0); font-style: italic; vertical-align: baseline;\">Written in collaboration with ChatGPT from OpenAI to improve understanding and assist with the explanation of the query.</span>"
            ],
            "metadata": {
                "language": "sql",
                "azdata_cell_guid": "30d13429-0b6b-47e3-9679-424e692be977"
            },
            "attachments": {}
        },
        {
            "cell_type": "code",
            "source": [
                "--#1\r\n",
                "SELECT\tOrderId AS orderid,\r\n",
                "\t\tOrderDate AS orderdate,\r\n",
                "\t\tcustid AS custid,\r\n",
                "\t\tempid AS empid\r\n",
                "FROM Sales.[Orders]\r\n",
                "WHERE Year(OrderDate) = 2015 and Month(OrderDate) = 06;"
            ],
            "metadata": {
                "azdata_cell_guid": "7c891178-d286-49cc-9d4e-e147383944f9",
                "language": "sql"
            },
            "outputs": [],
            "execution_count": null
        },
        {
            "cell_type": "code",
            "source": [
                "--#2\r\n",
                "SELECT OrderId AS orderid,\r\n",
                "       OrderDate AS orderdate,\r\n",
                "       custid AS custid,\r\n",
                "       empid AS empid\r\n",
                "FROM Sales.[Orders]\r\n",
                "WHERE OrderDate = EOMONTH(OrderDate);"
            ],
            "metadata": {
                "azdata_cell_guid": "969a7ca9-bbc5-409c-b397-a7f98563e4b1",
                "language": "sql"
            },
            "outputs": [],
            "execution_count": null
        },
        {
            "cell_type": "code",
            "source": [
                "--#3\r\n",
                "SELECT\tempid AS empid,\r\n",
                "\t\tfirstname AS firstname,\r\n",
                "\t\tlastname AS lastname\r\n",
                "FROM HR.Employees\r\n",
                "WHERE lastname LIKE '%e%e%';\r\n",
                "\r\n",
                ""
            ],
            "metadata": {
                "language": "sql",
                "azdata_cell_guid": "d02b100f-6433-4dff-8058-36a7f64830a7"
            },
            "outputs": [],
            "execution_count": null
        },
        {
            "cell_type": "code",
            "source": [
                "--#4\r\n",
                "SELECT\tOrderId AS orderid, \r\n",
                "\t\tSUM(qty*UnitPrice) AS totalvalue\r\n",
                "FROM Sales.[OrderDetails]\r\n",
                "GROUP BY OrderId\r\n",
                "HAVING SUM(qty*UnitPrice) > 10000\r\n",
                "ORDER BY totalvalue desc;\r\n",
                "\r\n",
                ""
            ],
            "metadata": {
                "language": "sql",
                "azdata_cell_guid": "9bb5eef2-2ccf-4e36-bd09-31c86a0250ae"
            },
            "outputs": [],
            "execution_count": null
        },
        {
            "cell_type": "code",
            "source": [
                "--#5\r\n",
                "SELECT\tempid AS empid,\r\n",
                "\t\tlastname AS lastname\r\n",
                "FROM HR.Employees\r\n",
                "WHERE LEFT(lastname, 0) COLLATE Latin1_General_CI_AS between 'a' and 'z';\r\n",
                "\r\n",
                "\r\n",
                ""
            ],
            "metadata": {
                "language": "sql",
                "azdata_cell_guid": "64b23dc2-79f8-49a6-9fe1-75ead8b93201"
            },
            "outputs": [],
            "execution_count": null
        },
        {
            "cell_type": "code",
            "source": [
                "--#6\r\n",
                "SELECT\tempid AS empid,\r\n",
                "\t\tCOUNT(*) AS numorders\r\n",
                "FROM Sales.[Orders]\r\n",
                "WHERE orderdate < '20160501'\r\n",
                "GROUP BY empid;\r\n",
                "--Query 1 filters all orders before May 1st 2016 and then counts by and groups by employeeId\r\n",
                "\r\n",
                "SELECT\tempid AS empid, \r\n",
                "\t\tCOUNT(*) AS numorders\r\n",
                "FROM Sales.[Orders]\r\n",
                "GROUP BY empid\r\n",
                "HAVING MAX(orderdate) < '20160501';\r\n",
                "--Query 2 groups and counts all existing orders by employeeId FIRST, then it filters the employees with the most recent orders placed before May 1st 2016\r\n",
                "\r\n",
                "\r\n",
                ""
            ],
            "metadata": {
                "language": "sql",
                "azdata_cell_guid": "a573e522-c67c-436a-b823-802b02d38f50"
            },
            "outputs": [],
            "execution_count": null
        },
        {
            "cell_type": "code",
            "source": [
                "--#7\r\n",
                "SELECT top 3\r\n",
                "       shipcountry AS shipcountry,\r\n",
                "       AVG(Freight) AS avgfreight\r\n",
                "FROM Sales.[Orders]\r\n",
                "WHERE YEAR(OrderDate) = 2015\r\n",
                "GROUP BY shipcountry\r\n",
                "ORDER BY AVG(Freight) desc;\r\n",
                "\r\n",
                "\r\n",
                ""
            ],
            "metadata": {
                "language": "sql",
                "azdata_cell_guid": "38617e3e-1f22-4afd-ac21-a78e95403832"
            },
            "outputs": [],
            "execution_count": null
        },
        {
            "cell_type": "code",
            "source": [
                "--#8\r\n",
                "SELECT custid AS custid,\r\n",
                "\t   OrderDate AS orderdate,\r\n",
                "\t   OrderId AS orderid,\r\n",
                "\t   ROW_NUMBER() OVER (PARTITION BY custid ORDER BY OrderDate, OrderId) AS rownum\r\n",
                "FROM Sales.[Orders]\r\n",
                "ORDER BY custid,\r\n",
                "\t\t OrderDate,\r\n",
                "\t\t OrderId;\r\n",
                "\r\n",
                "\r\n",
                ""
            ],
            "metadata": {
                "language": "sql",
                "azdata_cell_guid": "155901d2-8a31-4e2c-94ee-b01324ac82d9"
            },
            "outputs": [],
            "execution_count": null
        },
        {
            "cell_type": "code",
            "source": [
                "--#9\r\n",
                "SELECT empid AS empid,\r\n",
                "       firstname AS firstname,\r\n",
                "       lastname AS lastname,\r\n",
                "       titleofcourtesy AS titleofcourtesy,\r\n",
                "       CASE\r\n",
                "           WHEN titleofcourtesy = ('Ms.') THEN\r\n",
                "               'Female'\r\n",
                "           WHEN titleofcourtesy = ('Mrs.') THEN\r\n",
                "               'Female'\r\n",
                "           WHEN titleofcourtesy = ('Mr.') THEN\r\n",
                "               'Male'\r\n",
                "           ELSE\r\n",
                "               'Unknown'\r\n",
                "       END AS gender\r\n",
                "FROM HR.Employees;\r\n",
                "\r\n",
                "\r\n",
                ""
            ],
            "metadata": {
                "language": "sql",
                "azdata_cell_guid": "bb8f936f-8336-4139-aca9-0f48424ee98b"
            },
            "outputs": [],
            "execution_count": null
        },
        {
            "cell_type": "code",
            "source": [
                "--#10\r\n",
                "SELECT custid AS custid,\r\n",
                "       ISNULL(region, 'Null') AS region\r\n",
                "FROM Sales.Customers\r\n",
                "ORDER BY CASE\r\n",
                "             WHEN region IS NULL THEN\r\n",
                "                 1\r\n",
                "             ELSE\r\n",
                "                 0\r\n",
                "         END,\r\n",
                "         region,\r\n",
                "         custid;"
            ],
            "metadata": {
                "language": "sql",
                "azdata_cell_guid": "0dd24359-2fab-44cb-a605-4a04ad866971",
                "tags": []
            },
            "outputs": [],
            "execution_count": null
        },
        {
            "cell_type": "markdown",
            "source": [
                "**Chapter 3** **Exercise no:  #1 - 5**\n",
                "\n",
                "**#1** <span style=\"color: var(--vscode-foreground);\">Write a query that generates 5 copies out of each employee row</span>\n",
                "\n",
                "> Tables involved: TSQLV4 database, Employees and Nums tables\n",
                "\n",
                "**#2** Explain what's wrong in the following query and provide a correct alternative\n",
                "\n",
                "**#3** <span style=\"color: var(--vscode-foreground);\">Return US customers, and for each customer the total number of orders&nbsp;</span>    <span style=\"color: var(--vscode-foreground);\">and total quantities.&nbsp;</span>    \n",
                "\n",
                "> <span style=\"color: var(--vscode-foreground);\">Tables involved: TSQLV4 database, Customers, Orders and OrderDetails tables</span>\n",
                "\n",
                "**#4**    <span style=\"color: var(--vscode-foreground);\">&nbsp;Return customers and their orders including customers who placed no orders&nbsp;</span>    \n",
                "\n",
                "> <span style=\"color: var(--vscode-foreground);\">Tables involved: TSQLV4 database, Customers and Orders tables</span>\n",
                "\n",
                "**#5** <span style=\"color: var(--vscode-foreground);\">Return customers who placed no orders</span>\n",
                "\n",
                "<span style=\"background-color: rgba(127, 127, 127, 0.1);\">Tables involved: TSQLV4 database, Customers and Orders tables</span>\n",
                "\n",
                "<span style=\"background-color: transparent; font-size: 11pt; font-family: Arial, sans-serif; color: rgb(0, 0, 0); vertical-align: baseline;\"><span style=\"border: none; display: inline-block; overflow: hidden; width: 20px; height: 20px;\"><img src=\"https://lh7-us.googleusercontent.com/fr1jfMnxy4ib5z4ipHl6FxYTF73THw9svYIjjlx3BZh9L-0-0LgGDsxspfbwx4G5Z7VAcygnXyvRviuyTPoS3DcwyzEVcZoUBY1XHRtqHKMwV51p2f-dVij7bq8-8rjw1zGHg8WhEKuLJL5Q1NMbVtc\" width=\"20\" height=\"20\" style=\"margin-left: 0px; margin-top: 0px;\"></span></span><span style=\"background-color: transparent; font-size: 11pt; font-family: Arial, sans-serif; color: rgb(0, 0, 0); font-style: italic; vertical-align: baseline;\">Written in collaboration with ChatGPT from OpenAI to improve understanding and assist with the explanation of the query.</span><span style=\"background-color: rgba(127, 127, 127, 0.1);\"><br></span>"
            ],
            "metadata": {
                "language": "sql",
                "azdata_cell_guid": "15fe7d95-7d48-4ac3-8af3-5c80ee4f0672"
            },
            "attachments": {}
        },
        {
            "cell_type": "code",
            "source": [
                "--#1\r\n",
                "SELECT FullName AS Employee,\r\n",
                "    n\r\n",
                "FROM HR.Employees\r\n",
                "CROSS JOIN dbo.Nums AS n\r\n",
                "Where n <= 5\r\n",
                "Order by n;"
            ],
            "metadata": {
                "language": "sql",
                "azdata_cell_guid": "27acf1e5-183e-471d-a23d-78baac978910"
            },
            "outputs": [],
            "execution_count": null
        },
        {
            "cell_type": "code",
            "source": [
                "--#2 \r\n",
                "\r\n",
                "--This query is asking to inner join / (find matching custid values between Customers and Orders, \r\n",
                "--it's trying to match each customer to their orders respectively. \"The multi-part identifier \"Customers.custid\" could not be bound.\" \r\n",
                "--The specified column was no longer under the name Customers since we called it C, and O for Orders. \r\n",
                "--\"Could not be bound\" because the column table didn't exist under that name. The corrected alternative is below\r\n",
                "\r\n",
                "--Solution\r\n",
                "SELECT C.CustomerID,\r\n",
                "    C.CustomerName,\r\n",
                "    O.orderid,\r\n",
                "    O.orderdate\r\n",
                "FROM Sales.Customers AS C\r\n",
                "  INNER JOIN Sales.Orders AS O\r\n",
                "    ON C.CustomerID = O.CustomerID;"
            ],
            "metadata": {
                "language": "sql",
                "azdata_cell_guid": "2ec2b069-bbf5-4345-b162-2543d1fc8e11"
            },
            "outputs": [],
            "execution_count": null
        },
        {
            "cell_type": "code",
            "source": [
                "--#3\r\n",
                "SELECT C.CustomerID as custid,\r\n",
                "    COUNT(O.orderid) as numorders,\r\n",
                "    SUM(OD.Quantity) as totalqty\r\n",
                "FROM Sales.Customers as C\r\n",
                "INNER JOIN Sales.Orders AS O ON C.CustomerID = O.CustomerID\r\n",
                "INNER JOIN Sales.OrderLines AS OD ON O.orderid = OD.orderid\r\n",
                "GROUP BY C.CustomerID\r\n",
                "ORDER BY custid"
            ],
            "metadata": {
                "language": "sql",
                "azdata_cell_guid": "3dd22598-cb94-498b-b44a-b7fbdb2e0903"
            },
            "outputs": [],
            "execution_count": null
        },
        {
            "cell_type": "code",
            "source": [
                "--4\r\n",
                "SELECT C.CustomerID as custid,\r\n",
                "    C.CustomerName,\r\n",
                "    O.orderid,\r\n",
                "    O.orderdate\r\n",
                "FROM Sales.Customers AS C\r\n",
                "LEFT JOIN Sales.Orders AS O on C.CustomerID = O.CustomerID"
            ],
            "metadata": {
                "language": "sql",
                "azdata_cell_guid": "d8aa43a5-16e8-450d-a361-7f4db4b65cf4"
            },
            "outputs": [],
            "execution_count": null
        },
        {
            "cell_type": "code",
            "source": [
                "--#5\r\n",
                "Select C.CustomerID as custid,\r\n",
                "    C.CustomerName\r\n",
                "From Sales.Customers AS C\r\n",
                "LEFT JOIN Sales.Orders AS O ON C.CustomerID = O.CustomerID\r\n",
                "Where O.orderid IS NULL; "
            ],
            "metadata": {
                "language": "sql",
                "azdata_cell_guid": "678d7ec0-c804-446c-8c26-978d3926b8ce"
            },
            "outputs": [],
            "execution_count": null
        }
    ]
}